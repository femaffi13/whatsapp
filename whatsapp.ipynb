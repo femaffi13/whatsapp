{
 "cells": [
  {
   "attachments": {},
   "cell_type": "markdown",
   "metadata": {},
   "source": [
    "Es necesario haber iniciado sesión en la versión de web de WhatsApp, debido a que el programa enviará el mensaje a través de esta.  \n",
    "Por lo que será necesario que el teléfono asociado se mantenga en la misma red que el ordenador."
   ]
  },
  {
   "attachments": {},
   "cell_type": "markdown",
   "metadata": {},
   "source": [
    "> pip install pywhatkit"
   ]
  },
  {
   "cell_type": "code",
   "execution_count": 28,
   "metadata": {},
   "outputs": [],
   "source": [
    "import pywhatkit\n",
    "import pandas as pd"
   ]
  },
  {
   "cell_type": "code",
   "execution_count": 30,
   "metadata": {},
   "outputs": [],
   "source": [
    "#Mensaje instantáneo\n",
    "pywhatkit.sendwhatmsg_instantly(\"+541138056772\", \"Buen día\")"
   ]
  },
  {
   "cell_type": "code",
   "execution_count": null,
   "metadata": {},
   "outputs": [],
   "source": [
    "#Mensaje programado\n",
    "try:\n",
    "  pywhatkit.sendwhatmsg(\"+5491136866431\", \"Mensaje De Prueba\", 9,56)\n",
    "  print(\"Mensaje Enviado\")\n",
    "except: \n",
    "  print(\"Ocurrio Un Error\")"
   ]
  },
  {
   "cell_type": "code",
   "execution_count": null,
   "metadata": {},
   "outputs": [],
   "source": [
    "#Enviar a varios números\n",
    "numeros = ['+5491136866431', '+5491130171186', '+5491138056772']\n",
    "for i in numeros:\n",
    "    try:\n",
    "        pywhatkit.sendwhatmsg_instantly(i, \"Mensaje rápido\", wait_time=8, tab_close=True, close_time=1)\n",
    "        print(f'Mensaje Enviado a: {i} ✔')\n",
    "    except:\n",
    "        print(f'Ocurrió un error al enviar a: {i} ❌')"
   ]
  },
  {
   "attachments": {},
   "cell_type": "markdown",
   "metadata": {},
   "source": [
    "---"
   ]
  },
  {
   "cell_type": "code",
   "execution_count": 27,
   "metadata": {},
   "outputs": [
    {
     "name": "stdout",
     "output_type": "stream",
     "text": [
      "Mensaje Enviado a: 5491136866431 ✔\n",
      "Mensaje Enviado a: 5491130171186 ✔\n",
      "Mensaje Enviado a: 5491138056772 ✔\n",
      "Mensaje Enviado a: 5491122916213 ✔\n"
     ]
    }
   ],
   "source": [
    "import pandas as pd\n",
    "df = pd.read_excel('usuarios.xlsx')\n",
    "df = df.iloc[:15] #Limito a los primeros 15 registros\n",
    "celular = list(df['CELULAR'])\n",
    "nombre = list(df['NOMBRE'])\n",
    "\n",
    "with open('mensaje.txt', encoding='utf-8') as f:\n",
    "    lines = f.readlines()\n",
    "    mensaje = ''\n",
    "    for linea in lines:\n",
    "        mensaje += linea\n",
    "\n",
    "for i in range(len(celular)):\n",
    "    try:\n",
    "        if '[name]' in mensaje:\n",
    "            mensaje_temp = mensaje.replace('[name]', nombre[i])\n",
    "        pywhatkit.sendwhatmsg_instantly(f'+{celular[i]}', mensaje_temp, wait_time=8, tab_close=True, close_time=1)\n",
    "        print(f'Mensaje Enviado a: {celular[i]} ✔')\n",
    "    except:\n",
    "        print(f'Ocurrió un error al enviar a: +{celular[i]} ❌')"
   ]
  },
  {
   "cell_type": "code",
   "execution_count": 24,
   "metadata": {},
   "outputs": [
    {
     "name": "stdout",
     "output_type": "stream",
     "text": [
      "Cantidad de lineas: 2\n",
      "Hola [name] mensaje de primera linea ✔\n",
      "Segunda linea ❌\n"
     ]
    }
   ],
   "source": [
    "with open('mensaje.txt', encoding='utf-8') as f:\n",
    "    lines = f.readlines()\n",
    "    print(f'Cantidad de lineas: {len(lines)}')\n",
    "    mensaje = ''\n",
    "    for linea in lines:\n",
    "        mensaje += linea\n",
    "    print(mensaje)"
   ]
  }
 ],
 "metadata": {
  "kernelspec": {
   "display_name": "Python 3",
   "language": "python",
   "name": "python3"
  },
  "language_info": {
   "codemirror_mode": {
    "name": "ipython",
    "version": 3
   },
   "file_extension": ".py",
   "mimetype": "text/x-python",
   "name": "python",
   "nbconvert_exporter": "python",
   "pygments_lexer": "ipython3",
   "version": "3.10.5"
  },
  "orig_nbformat": 4,
  "vscode": {
   "interpreter": {
    "hash": "6ee10d5a94323f275e5d9aabe383f651e0207d37fb57c0f216d6b1c1a4073c8b"
   }
  }
 },
 "nbformat": 4,
 "nbformat_minor": 2
}
